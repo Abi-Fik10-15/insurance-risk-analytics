{
 "cells": [
  {
   "cell_type": "code",
   "execution_count": null,
   "id": "b16a2279",
   "metadata": {
    "vscode": {
     "languageId": "plaintext"
    }
   },
   "outputs": [],
   "source": [
    "# EDA and Modeling Notebook (sample Python code cells)\n",
    "\n",
    "from src.preprocessing import load_data, preprocess\n",
    "from src.model import split_data, train_models, evaluate_models\n",
    "\n",
    "# Load and preprocess\n",
    "df = load_data(\"../data/sample_data.csv\")\n",
    "df = preprocess(df)\n",
    "\n",
    "# Split and train\n",
    "X_train, X_test, y_train, y_test = split_data(df)\n",
    "models = train_models(X_train, y_train)\n",
    "\n",
    "# Evaluate\n",
    "results = evaluate_models(models, X_test, y_test)\n",
    "print(\"Model Performance (MAE):\", results)\n"
   ]
  }
 ],
 "metadata": {
  "language_info": {
   "name": "python"
  }
 },
 "nbformat": 4,
 "nbformat_minor": 5
}
